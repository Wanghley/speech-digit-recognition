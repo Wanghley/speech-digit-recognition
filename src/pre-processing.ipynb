{
 "cells": [
  {
   "cell_type": "code",
   "execution_count": 1,
   "metadata": {},
   "outputs": [
    {
     "name": "stdout",
     "output_type": "stream",
     "text": [
      "Note: you may need to restart the kernel to use updated packages.\n"
     ]
    }
   ],
   "source": [
    "%pip install numpy pandas -q\n",
    "import numpy as np\n",
    "import pandas as pd\n",
    "from constants import *\n",
    "import sys"
   ]
  },
  {
   "cell_type": "code",
   "execution_count": 2,
   "metadata": {},
   "outputs": [],
   "source": [
    "df = pd.DataFrame()"
   ]
  },
  {
   "cell_type": "code",
   "execution_count": 3,
   "metadata": {},
   "outputs": [],
   "source": [
    "def load(filepath, coeff=ALL_COEFFS):\n",
    "    \"\"\"\n",
    "    :param filepath: path to the file to load\n",
    "    Organizes the data in the input file into a list of matrices. Each matrix is the data for a spoken digit,\n",
    "    where the columns are the coefficients and each row is the index of the time window\n",
    "    \"\"\"\n",
    "    \n",
    "    \n",
    "    try:\n",
    "        f = open(filepath)\n",
    "    except FileNotFoundError:\n",
    "        print(f\"File {filepath} not found\")\n",
    "        return None\n",
    "    \n",
    "    digits = []\n",
    "    labels = np.append(['block','utterance','speaker','gender','digit'],coeff)\n",
    "    utterances = 1\n",
    "    speaker = 1\n",
    "    gender = 'm'\n",
    "    digit = 0\n",
    "    block = 1\n",
    "    \n",
    "    \n",
    "    global df\n",
    "    df = pd.DataFrame(columns=labels)\n",
    "    \n",
    "    # load the data\n",
    "    with f:\n",
    "        print(f\"Loading {filepath}\")\n",
    "        for idx, line in enumerate(f):\n",
    "            if idx == 0:\n",
    "                continue\n",
    "            if line.isspace() or line==\"\\n\":\n",
    "                utterances+=1\n",
    "                block+=1\n",
    "                digit = (block-1)//660\n",
    "                if utterances>10:\n",
    "                    utterances = 1\n",
    "                    speaker += 1\n",
    "                \n",
    "                if (speaker-1)//33==1:\n",
    "                    gender = 'f'\n",
    "                elif (speaker-1)//66==1:\n",
    "                    gender = 'm'\n",
    "                    speaker = 1\n",
    "                \n",
    "                continue\n",
    "            entry = getFormattedEntry(line, coeff)\n",
    "            new_row = [block,utterances, speaker, gender, digit] + entry.tolist()\n",
    "            entry_df = pd.DataFrame([new_row], columns=df.columns)\n",
    "\n",
    "            # Append the new row to the main DataFrame\n",
    "            df = pd.concat([df, entry_df], ignore_index=True)\n",
    "                "
   ]
  },
  {
   "cell_type": "code",
   "execution_count": 4,
   "metadata": {},
   "outputs": [],
   "source": [
    "def getFormattedEntry(line, coeff=ALL_COEFFS):\n",
    "    \"\"\"\n",
    "    :param coeff: the coefficients to load\n",
    "    :return: the columns to load from the data file\n",
    "    \"\"\"\n",
    "    if coeff.all() == ALL_COEFFS.all():\n",
    "        line = line.strip() # remove leading and trailing whitespace\n",
    "        arr = np.array(line.split(\" \"))\n",
    "        return arr.astype(np.float64)\n",
    "    else:\n",
    "        return [i+1 for i in coeff]"
   ]
  },
  {
   "cell_type": "code",
   "execution_count": 5,
   "metadata": {},
   "outputs": [],
   "source": [
    "def getTrainDataset(coeffs=ALL_COEFFS):\n",
    "    \"\"\"\n",
    "    Loads the training dataset\n",
    "    \"\"\"\n",
    "    return load(TRAIN_FILE,coeffs)"
   ]
  },
  {
   "cell_type": "code",
   "execution_count": 6,
   "metadata": {},
   "outputs": [
    {
     "data": {
      "text/plain": [
       "2"
      ]
     },
     "execution_count": 6,
     "metadata": {},
     "output_type": "execute_result"
    }
   ],
   "source": [
    "1320 // 660"
   ]
  },
  {
   "cell_type": "code",
   "execution_count": 7,
   "metadata": {},
   "outputs": [
    {
     "name": "stdout",
     "output_type": "stream",
     "text": [
      "Loading ../data/Train_Arabic_Digit.txt\n"
     ]
    },
    {
     "name": "stderr",
     "output_type": "stream",
     "text": [
      "/var/folders/r5/m5977dy13hd_9klxgsmylm740000gn/T/ipykernel_78858/1534965888.py:53: FutureWarning: The behavior of DataFrame concatenation with empty or all-NA entries is deprecated. In a future version, this will no longer exclude empty or all-NA columns when determining the result dtypes. To retain the old behavior, exclude the relevant entries before the concat operation.\n",
      "  df = pd.concat([df, entry_df], ignore_index=True)\n"
     ]
    }
   ],
   "source": [
    "if __name__ == \"__main__\":\n",
    "    trainDF = getTrainDataset(coeffs=ALL_COEFFS)"
   ]
  },
  {
   "cell_type": "code",
   "execution_count": 10,
   "metadata": {},
   "outputs": [],
   "source": [
    "df.to_csv(\"../data/dataframe.csv\")"
   ]
  },
  {
   "cell_type": "code",
   "execution_count": 23,
   "metadata": {},
   "outputs": [
    {
     "data": {
      "text/plain": [
       "Index(['block', 'utterance', 'speaker', 'gender', 'digit', '0', '1', '2', '3',\n",
       "       '4', '5', '6', '7', '8', '9', '10', '11', '12'],\n",
       "      dtype='object')"
      ]
     },
     "execution_count": 23,
     "metadata": {},
     "output_type": "execute_result"
    }
   ],
   "source": [
    "df.columns"
   ]
  },
  {
   "cell_type": "code",
   "execution_count": 22,
   "metadata": {},
   "outputs": [
    {
     "data": {
      "text/plain": [
       "array([5941, 5942, 5943, 5944, 5945, 5946, 5947, 5948, 5949, 5950, 5951,\n",
       "       5952, 5953, 5954, 5955, 5956, 5957, 5958, 5959, 5960, 5961, 5962,\n",
       "       5963, 5964, 5965, 5966, 5967, 5968, 5969, 5970, 5971, 5972, 5973,\n",
       "       5974, 5975, 5976, 5977, 5978, 5979, 5980, 5981, 5982, 5983, 5984,\n",
       "       5985, 5986, 5987, 5988, 5989, 5990, 5991, 5992, 5993, 5994, 5995,\n",
       "       5996, 5997, 5998, 5999, 6000, 6001, 6002, 6003, 6004, 6005, 6006,\n",
       "       6007, 6008, 6009, 6010, 6011, 6012, 6013, 6014, 6015, 6016, 6017,\n",
       "       6018, 6019, 6020, 6021, 6022, 6023, 6024, 6025, 6026, 6027, 6028,\n",
       "       6029, 6030, 6031, 6032, 6033, 6034, 6035, 6036, 6037, 6038, 6039,\n",
       "       6040, 6041, 6042, 6043, 6044, 6045, 6046, 6047, 6048, 6049, 6050,\n",
       "       6051, 6052, 6053, 6054, 6055, 6056, 6057, 6058, 6059, 6060, 6061,\n",
       "       6062, 6063, 6064, 6065, 6066, 6067, 6068, 6069, 6070, 6071, 6072,\n",
       "       6073, 6074, 6075, 6076, 6077, 6078, 6079, 6080, 6081, 6082, 6083,\n",
       "       6084, 6085, 6086, 6087, 6088, 6089, 6090, 6091, 6092, 6093, 6094,\n",
       "       6095, 6096, 6097, 6098, 6099, 6100, 6101, 6102, 6103, 6104, 6105,\n",
       "       6106, 6107, 6108, 6109, 6110, 6111, 6112, 6113, 6114, 6115, 6116,\n",
       "       6117, 6118, 6119, 6120, 6121, 6122, 6123, 6124, 6125, 6126, 6127,\n",
       "       6128, 6129, 6130, 6131, 6132, 6133, 6134, 6135, 6136, 6137, 6138,\n",
       "       6139, 6140, 6141, 6142, 6143, 6144, 6145, 6146, 6147, 6148, 6149,\n",
       "       6150, 6151, 6152, 6153, 6154, 6155, 6156, 6157, 6158, 6159, 6160,\n",
       "       6161, 6162, 6163, 6164, 6165, 6166, 6167, 6168, 6169, 6170, 6171,\n",
       "       6172, 6173, 6174, 6175, 6176, 6177, 6178, 6179, 6180, 6181, 6182,\n",
       "       6183, 6184, 6185, 6186, 6187, 6188, 6189, 6190, 6191, 6192, 6193,\n",
       "       6194, 6195, 6196, 6197, 6198, 6199, 6200, 6201, 6202, 6203, 6204,\n",
       "       6205, 6206, 6207, 6208, 6209, 6210, 6211, 6212, 6213, 6214, 6215,\n",
       "       6216, 6217, 6218, 6219, 6220, 6221, 6222, 6223, 6224, 6225, 6226,\n",
       "       6227, 6228, 6229, 6230, 6231, 6232, 6233, 6234, 6235, 6236, 6237,\n",
       "       6238, 6239, 6240, 6241, 6242, 6243, 6244, 6245, 6246, 6247, 6248,\n",
       "       6249, 6250, 6251, 6252, 6253, 6254, 6255, 6256, 6257, 6258, 6259,\n",
       "       6260, 6261, 6262, 6263, 6264, 6265, 6266, 6267, 6268, 6269, 6270,\n",
       "       6271, 6272, 6273, 6274, 6275, 6276, 6277, 6278, 6279, 6280, 6281,\n",
       "       6282, 6283, 6284, 6285, 6286, 6287, 6288, 6289, 6290, 6291, 6292,\n",
       "       6293, 6294, 6295, 6296, 6297, 6298, 6299, 6300, 6301, 6302, 6303,\n",
       "       6304, 6305, 6306, 6307, 6308, 6309, 6310, 6311, 6312, 6313, 6314,\n",
       "       6315, 6316, 6317, 6318, 6319, 6320, 6321, 6322, 6323, 6324, 6325,\n",
       "       6326, 6327, 6328, 6329, 6330, 6331, 6332, 6333, 6334, 6335, 6336,\n",
       "       6337, 6338, 6339, 6340, 6341, 6342, 6343, 6344, 6345, 6346, 6347,\n",
       "       6348, 6349, 6350, 6351, 6352, 6353, 6354, 6355, 6356, 6357, 6358,\n",
       "       6359, 6360, 6361, 6362, 6363, 6364, 6365, 6366, 6367, 6368, 6369,\n",
       "       6370, 6371, 6372, 6373, 6374, 6375, 6376, 6377, 6378, 6379, 6380,\n",
       "       6381, 6382, 6383, 6384, 6385, 6386, 6387, 6388, 6389, 6390, 6391,\n",
       "       6392, 6393, 6394, 6395, 6396, 6397, 6398, 6399, 6400, 6401, 6402,\n",
       "       6403, 6404, 6405, 6406, 6407, 6408, 6409, 6410, 6411, 6412, 6413,\n",
       "       6414, 6415, 6416, 6417, 6418, 6419, 6420, 6421, 6422, 6423, 6424,\n",
       "       6425, 6426, 6427, 6428, 6429, 6430, 6431, 6432, 6433, 6434, 6435,\n",
       "       6436, 6437, 6438, 6439, 6440, 6441, 6442, 6443, 6444, 6445, 6446,\n",
       "       6447, 6448, 6449, 6450, 6451, 6452, 6453, 6454, 6455, 6456, 6457,\n",
       "       6458, 6459, 6460, 6461, 6462, 6463, 6464, 6465, 6466, 6467, 6468,\n",
       "       6469, 6470, 6471, 6472, 6473, 6474, 6475, 6476, 6477, 6478, 6479,\n",
       "       6480, 6481, 6482, 6483, 6484, 6485, 6486, 6487, 6488, 6489, 6490,\n",
       "       6491, 6492, 6493, 6494, 6495, 6496, 6497, 6498, 6499, 6500, 6501,\n",
       "       6502, 6503, 6504, 6505, 6506, 6507, 6508, 6509, 6510, 6511, 6512,\n",
       "       6513, 6514, 6515, 6516, 6517, 6518, 6519, 6520, 6521, 6522, 6523,\n",
       "       6524, 6525, 6526, 6527, 6528, 6529, 6530, 6531, 6532, 6533, 6534,\n",
       "       6535, 6536, 6537, 6538, 6539, 6540, 6541, 6542, 6543, 6544, 6545,\n",
       "       6546, 6547, 6548, 6549, 6550, 6551, 6552, 6553, 6554, 6555, 6556,\n",
       "       6557, 6558, 6559, 6560, 6561, 6562, 6563, 6564, 6565, 6566, 6567,\n",
       "       6568, 6569, 6570, 6571, 6572, 6573, 6574, 6575, 6576, 6577, 6578,\n",
       "       6579, 6580, 6581, 6582, 6583, 6584, 6585, 6586, 6587, 6588, 6589,\n",
       "       6590, 6591, 6592, 6593, 6594, 6595, 6596, 6597, 6598, 6599, 6600],\n",
       "      dtype=object)"
      ]
     },
     "execution_count": 22,
     "metadata": {},
     "output_type": "execute_result"
    }
   ],
   "source": [
    "df_0 = df[df['digit']==9]\n",
    "df_0['block'].unique()"
   ]
  }
 ],
 "metadata": {
  "kernelspec": {
   "display_name": "Python 3",
   "language": "python",
   "name": "python3"
  },
  "language_info": {
   "codemirror_mode": {
    "name": "ipython",
    "version": 3
   },
   "file_extension": ".py",
   "mimetype": "text/x-python",
   "name": "python",
   "nbconvert_exporter": "python",
   "pygments_lexer": "ipython3",
   "version": "3.12.7"
  }
 },
 "nbformat": 4,
 "nbformat_minor": 2
}
